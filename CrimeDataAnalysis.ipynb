{
 "cells": [
  {
   "cell_type": "code",
   "execution_count": 2,
   "id": "d4a7834a-9242-4a00-ba3c-4ba9efb228bc",
   "metadata": {},
   "outputs": [],
   "source": [
    "## step_1: Created a new database using MySql Workbench \n",
    "## step_2: Import provided crime_data set into database table "
   ]
  },
  {
   "cell_type": "code",
   "execution_count": 3,
   "id": "bc99ccc4-fc8e-45b2-b0ab-52ca6e54e378",
   "metadata": {},
   "outputs": [],
   "source": [
    "## step_3: Launch Jupyter Notebook and install pymysql which is required to connect python with database to access dataset\n",
    "import pymysql"
   ]
  },
  {
   "cell_type": "code",
   "execution_count": 4,
   "id": "4fbdea3e-9a60-48d3-a081-0931858d7398",
   "metadata": {},
   "outputs": [],
   "source": [
    "## step_4: Establish connection with database named \"project\"\n",
    "conn=pymysql.connect(host=\"localhost\",\n",
    "                     port=3307,\n",
    "               user=\"root\",\n",
    "               password=\"tiger\",\n",
    "               database=\"project\")"
   ]
  },
  {
   "cell_type": "code",
   "execution_count": 5,
   "id": "524a39f6-1d63-4e96-a88a-0a1a3b751731",
   "metadata": {},
   "outputs": [],
   "source": [
    "## step_5: Import all required libraries\n",
    "import warnings\n",
    "warnings.filterwarnings('ignore') #to ignore warnings during coding\n",
    "import numpy as np   #to work with numerical data\n",
    "import pandas as pd  #for data analysis purpose\n",
    "import matplotlib.pyplot as plt  #for data visualisation purpose\n",
    "import seaborn as sns  #for data visualisation purpose\n",
    "import plotly.express as px #for data visualisation purpose\n"
   ]
  },
  {
   "cell_type": "code",
   "execution_count": 6,
   "id": "d060cfb0-2461-49df-a1cc-af969842074e",
   "metadata": {},
   "outputs": [
    {
     "name": "stdout",
     "output_type": "stream",
     "text": [
      "         DR_NO   Date_Rptd    DATE_OCC    AREA_NAME  Crm_Cd  \\\n",
      "0     10304468  01-08-2020  01-08-2020    Southwest     624   \n",
      "1    190101086  01-02-2020  01-01-2020      Central     624   \n",
      "2    191501505  01-01-2020  01-01-2020  N Hollywood     745   \n",
      "3    191921269  01-01-2020  01-01-2020      Mission     740   \n",
      "4    200100502  01-02-2020  01-02-2020      Central     442   \n",
      "..         ...         ...         ...          ...     ...   \n",
      "494  200106614  02-07-2020  02-07-2020      Central     624   \n",
      "495  200106615  02-07-2020  02-07-2020      Central     624   \n",
      "496  200106616  02-07-2020  02-07-2020      Central     624   \n",
      "497  200106617  02-07-2020  01-10-2020      Central     510   \n",
      "498  200106618  02-07-2020  02-03-2020      Central     745   \n",
      "\n",
      "                                           Crm_Cd_Desc  Vict_Age Vict_Sex  \\\n",
      "0                             BATTERY - SIMPLE ASSAULT        36        F   \n",
      "1                             BATTERY - SIMPLE ASSAULT        25        M   \n",
      "2             VANDALISM - MISDEAMEANOR ($399 OR UNDER)        76        F   \n",
      "3    VANDALISM - FELONY ($400 & OVER, ALL CHURCH VA...        31        X   \n",
      "4             SHOPLIFTING - PETTY THEFT ($950 & UNDER)        23        M   \n",
      "..                                                 ...       ...      ...   \n",
      "494                           BATTERY - SIMPLE ASSAULT        33        M   \n",
      "495                           BATTERY - SIMPLE ASSAULT        25        M   \n",
      "496                           BATTERY - SIMPLE ASSAULT        35        M   \n",
      "497                                   VEHICLE - STOLEN         0        F   \n",
      "498           VANDALISM - MISDEAMEANOR ($399 OR UNDER)        72        M   \n",
      "\n",
      "                                      Premis_Desc Status            Location  \\\n",
      "0                          SINGLE FAMILY DWELLING     AO      1100 W 39TH PL   \n",
      "1                                        SIDEWALK     IC       700 S HILL ST   \n",
      "2    MULTI-UNIT DWELLING (APARTMENT, DUPLEX, ETC)     IC     5400 CORTEEN PL   \n",
      "3                             BEAUTY SUPPLY STORE     IC      14400 TITUS ST   \n",
      "4                                DEPARTMENT STORE     IC   700 S FIGUEROA ST   \n",
      "..                                            ...    ...                 ...   \n",
      "494                                      SIDEWALK     IC   2400 ELLENDALE PL   \n",
      "495                                      SIDEWALK     IC             39TH PL   \n",
      "496                                   OTHER STORE     IC    2500 W VERNON AV   \n",
      "497                                   PARKING LOT     IC   700 EXPOSITION BL   \n",
      "498                      VEHICLE, PASSENGER/TRUCK     IC  2600 S FIGUEROA ST   \n",
      "\n",
      "       LAT     LON  \n",
      "0    34.01 -118.30  \n",
      "1    34.05 -118.25  \n",
      "2    34.17 -118.40  \n",
      "3    34.22 -118.45  \n",
      "4    34.05 -118.26  \n",
      "..     ...     ...  \n",
      "494  34.05 -118.26  \n",
      "495  34.05 -118.26  \n",
      "496  34.05 -118.25  \n",
      "497  34.05 -118.25  \n",
      "498  34.05 -118.24  \n",
      "\n",
      "[499 rows x 13 columns]\n"
     ]
    }
   ],
   "source": [
    "## step_6: Get all data \n",
    "query=\"select * from crime_data\"\n",
    "df=pd.read_sql(query,conn)\n",
    "print(df)"
   ]
  },
  {
   "cell_type": "code",
   "execution_count": 7,
   "id": "67c677d6-49d1-4956-839a-478bd900a9f1",
   "metadata": {},
   "outputs": [],
   "source": [
    "## step_7: Analysing data \n",
    "    # This \"crime_data\" Dataset has total 499 rows and 13 columns\n",
    "    # Columns are - \"DR_NO\" which is unique,\"Date_Rptd\",\"DATE_OCC\",\"AREA_NAME\",\"Crm_Cd\",\"Crm_Cd_Desc\",\"Vict_Age\",\"Vict_Sex\"\n",
    "#       \"Premis_Desc\",\"Status\",\"Location\",\"LAT\",\"LON\"."
   ]
  },
  {
   "cell_type": "code",
   "execution_count": null,
   "id": "04d7e988-dd9d-4ab7-a9e3-040c58341488",
   "metadata": {},
   "outputs": [],
   "source": [
    "### Question_1:\n",
    "##Spatial Analysis:\n",
    "## Where are the geographical hotspots for reported crimes?\n",
    "\n",
    "fig = px.scatter(df, x=\"LAT\", y=\"LON\",color=\"AREA_NAME\",title=\"Geographical hotspots for reported crime\")\n",
    "fig.show()\n",
    "\n",
    "st=px.histogram(df.LAT,x=\"LAT\",nbins=30,text_auto=True,title=\"Latitude wise Geographical hotspots for reported crime\")\n",
    "st.show()\n",
    "\n",
    "st=px.histogram(df.LON,x=\"LON\",nbins=30,text_auto=True,title=\"Longitude wise Geographical hotspots for reported crime\")\n",
    "st.show()"
   ]
  },
  {
   "cell_type": "code",
   "execution_count": null,
   "id": "5f0f4798-0647-4c42-9b3b-f98a3ddd91a9",
   "metadata": {},
   "outputs": [],
   "source": [
    "## summery : Here we can see from above scatter plot and histogram most reported crime belongs to latitude 34.04 to 34.09 \n",
    "#                and longitude -118.26 to -118.23, this is the geographical hotspot for reported crime"
   ]
  },
  {
   "cell_type": "code",
   "execution_count": null,
   "id": "192cb9d2-d13e-4bd4-991d-def7e1c0c55e",
   "metadata": {},
   "outputs": [],
   "source": [
    "### Question_2:\n",
    "## Victim Demographics:\n",
    "## What is the distribution of victim ages in reported crimes?\n",
    "\n",
    "sns.set(style='dark')\n",
    "sns.distplot(df['Vict_Age'],bins=8,label=\"Age Count\",color=\"Green\")\n",
    "plt.title(\"Distribution of victim age\")\n",
    "plt.legend()\n",
    "plt.show()\n"
   ]
  },
  {
   "cell_type": "code",
   "execution_count": null,
   "id": "9d6f86b1-fded-4057-950f-8b0943893e8f",
   "metadata": {},
   "outputs": [],
   "source": [
    "## summery: Most of the victim age are in between 20 to 40 years"
   ]
  },
  {
   "cell_type": "code",
   "execution_count": null,
   "id": "7531d050-21ee-4580-bcc0-44ff00623847",
   "metadata": {},
   "outputs": [],
   "source": [
    "### Question_3:\n",
    "## Victim Demographics:\n",
    "## Is there a significant difference in crime rates between male and female victims?\n",
    "\n",
    "plt.figure(dpi=150)\n",
    "plt.pie(df['Vict_Sex'].value_counts(),labels=df['Vict_Sex'].value_counts().index,autopct=\"%0.2f%%\",shadow=True)\n",
    "plt.title(\"Percentage of male and female victims\")\n",
    "plt.legend(title=\"Gender\")\n",
    "plt.show()"
   ]
  },
  {
   "cell_type": "code",
   "execution_count": null,
   "id": "95056205-8028-4b60-86c3-c58e165d262b",
   "metadata": {},
   "outputs": [],
   "source": [
    "## summery: Male victims are (55.7-31.06)=24.5% more in count then female victim."
   ]
  },
  {
   "cell_type": "code",
   "execution_count": null,
   "id": "44f29d4f-e9bf-4e7f-843f-45d46365b115",
   "metadata": {
    "scrolled": true
   },
   "outputs": [],
   "source": [
    "### Question_4:\n",
    "## Location Analysis:\n",
    "## Where do most crimes occur based on the \"Location\" column?\n",
    "\n",
    "st=px.histogram(df, x=\"Location\",title=\"Crimes occur based on the Location\")\n",
    "st.show()"
   ]
  },
  {
   "cell_type": "code",
   "execution_count": null,
   "id": "112ada24-1d2b-48b2-8fd8-526638ac9bcd",
   "metadata": {},
   "outputs": [],
   "source": [
    "## summery: Most crime occur at \"800 N ALAMEDA ST\" and the number of crime occur at that place are 14."
   ]
  },
  {
   "cell_type": "code",
   "execution_count": null,
   "id": "f5ea4264-cc73-4d7b-9c11-52919bce9083",
   "metadata": {},
   "outputs": [],
   "source": [
    "### Question_5:\n",
    "## Crime Code Analysis:\n",
    "## What is the distribution of reported crimes based on Crime Code?\n",
    "\n",
    "st=px.histogram(df, x=\"Crm_Cd\",nbins=10,text_auto=True,title=\"Distribution of reported crimes based on Crime Code\")\n",
    "st.show()"
   ]
  },
  {
   "cell_type": "code",
   "execution_count": null,
   "id": "2ccb08aa-ff51-446c-860d-bd65bf7117e2",
   "metadata": {},
   "outputs": [],
   "source": [
    "## Cmr_Cd distribution analysis -- 300 to 500 and 600 to 700 crime code reported most then 200 to 300 and 700 to 800 crime code reported\n",
    "#      and less crime code reported in between 500 to 600 and 800 to 1000."
   ]
  },
  {
   "cell_type": "code",
   "execution_count": null,
   "id": "c09a5933-d594-4a4b-86ca-f13c2523acb3",
   "metadata": {},
   "outputs": [],
   "source": [
    "### Tools and Libraries used in this project:\n",
    "# 1. Jupter notebook for Python development.\n",
    "# 2. PyMySQL for interacting with MySQL database.\n",
    "# 3. Matplotlib,Seaborn,Plotly for data visualization."
   ]
  },
  {
   "cell_type": "code",
   "execution_count": null,
   "id": "e2d7e4f7-aa74-4bba-a5f5-ebc3b9d18ef6",
   "metadata": {},
   "outputs": [],
   "source": []
  }
 ],
 "metadata": {
  "kernelspec": {
   "display_name": "Python 3 (ipykernel)",
   "language": "python",
   "name": "python3"
  },
  "language_info": {
   "codemirror_mode": {
    "name": "ipython",
    "version": 3
   },
   "file_extension": ".py",
   "mimetype": "text/x-python",
   "name": "python",
   "nbconvert_exporter": "python",
   "pygments_lexer": "ipython3",
   "version": "3.11.7"
  }
 },
 "nbformat": 4,
 "nbformat_minor": 5
}
